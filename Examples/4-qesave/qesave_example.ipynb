{
 "cells": [
  {
   "cell_type": "code",
   "execution_count": 18,
   "metadata": {},
   "outputs": [
    {
     "name": "stdout",
     "output_type": "stream",
     "text": [
      "x temp/\n",
      "x temp/BN.save/\n",
      "x temp/BN.save/spin-polarization.dat\n",
      "x temp/BN.save/charge-density.dat\n",
      "x temp/BN.save/gvectors.dat\n",
      "x temp/BN.save/K00001/\n",
      "x temp/BN.save/data-file.xml\n",
      "x temp/BN.save/K00001/evc1.dat\n",
      "x temp/BN.save/K00001/evc2.dat\n",
      "x temp/BN.save/K00001/eigenval1.xml\n",
      "x temp/BN.save/K00001/eigenval2.xml\n",
      "x temp/BN.save/K00001/gkvectors.dat\n"
     ]
    }
   ],
   "source": [
    "# decompress provided save folder from the qe calculation\n",
    "!tar -xzvf temp.tar.gz"
   ]
  },
  {
   "cell_type": "code",
   "execution_count": 19,
   "metadata": {},
   "outputs": [],
   "source": [
    "import pw2py as pw\n",
    "import numpy as np\n",
    "import matplotlib.pyplot as plt\n",
    "import scipy.fftpack"
   ]
  },
  {
   "cell_type": "markdown",
   "metadata": {},
   "source": [
    "### qesave is a module"
   ]
  },
  {
   "cell_type": "code",
   "execution_count": 20,
   "metadata": {},
   "outputs": [
    {
     "data": {
      "text/plain": [
       "['init', 'load61', 'load66', 'qesave']"
      ]
     },
     "execution_count": 20,
     "metadata": {},
     "output_type": "execute_result"
    }
   ],
   "source": [
    "# check out the available functions\n",
    "[d for d in dir(pw.qesave) if not d.startswith('_')]"
   ]
  },
  {
   "cell_type": "markdown",
   "metadata": {},
   "source": [
    "### Reading charge density"
   ]
  },
  {
   "cell_type": "code",
   "execution_count": 22,
   "metadata": {},
   "outputs": [
    {
     "name": "stdout",
     "output_type": "stream",
     "text": [
      "Help on package pw2py.qesave in pw2py:\n",
      "\n",
      "NAME\n",
      "    pw2py.qesave - module housing several functions for reading qe *.save folder. More details to come!\n",
      "\n",
      "DESCRIPTION\n",
      "    Example usage of loaders for qe 6.6:\n",
      "    \n",
      "        >>> from pw2py.qesave.load66 import read_wavefunction\n",
      "        >>> gk, evc = read_wavefunction('./path/to/savefolder')\n",
      "\n",
      "PACKAGE CONTENTS\n",
      "    init\n",
      "    load61\n",
      "    load66\n",
      "\n",
      "CLASSES\n",
      "    builtins.object\n",
      "        qesave\n",
      "    \n",
      "    class qesave(builtins.object)\n",
      "     |  qesave(path: Union[str, NoneType] = None, prefix: Union[str, NoneType] = None, version: Union[float, NoneType] = None)\n",
      "     |  \n",
      "     |  Methods defined here:\n",
      "     |  \n",
      "     |  __init__(self, path: Union[str, NoneType] = None, prefix: Union[str, NoneType] = None, version: Union[float, NoneType] = None)\n",
      "     |  \n",
      "     |  ----------------------------------------------------------------------\n",
      "     |  Data descriptors defined here:\n",
      "     |  \n",
      "     |  __dict__\n",
      "     |      dictionary for instance variables (if defined)\n",
      "     |  \n",
      "     |  __weakref__\n",
      "     |      list of weak references to the object (if defined)\n",
      "\n",
      "FILE\n",
      "    /Users/miaz/opt/anaconda3/lib/python3.8/site-packages/pw2py/qesave/__init__.py\n",
      "\n",
      "\n"
     ]
    }
   ],
   "source": [
    "help(pw.qesave)"
   ]
  },
  {
   "cell_type": "code",
   "execution_count": 21,
   "metadata": {},
   "outputs": [
    {
     "ename": "AttributeError",
     "evalue": "module 'pw2py.qesave' has no attribute 'read_charge_density'",
     "output_type": "error",
     "traceback": [
      "\u001b[0;31m---------------------------------------------------------------------------\u001b[0m",
      "\u001b[0;31mAttributeError\u001b[0m                            Traceback (most recent call last)",
      "\u001b[0;32m<ipython-input-21-baf76d990d14>\u001b[0m in \u001b[0;36m<module>\u001b[0;34m\u001b[0m\n\u001b[0;32m----> 1\u001b[0;31m \u001b[0mhelp\u001b[0m\u001b[0;34m(\u001b[0m\u001b[0mpw\u001b[0m\u001b[0;34m.\u001b[0m\u001b[0mqesave\u001b[0m\u001b[0;34m.\u001b[0m\u001b[0mread_charge_density\u001b[0m\u001b[0;34m)\u001b[0m\u001b[0;34m\u001b[0m\u001b[0;34m\u001b[0m\u001b[0m\n\u001b[0m",
      "\u001b[0;31mAttributeError\u001b[0m: module 'pw2py.qesave' has no attribute 'read_charge_density'"
     ]
    }
   ],
   "source": [
    "help(pw.qesave.read_charge_density)"
   ]
  },
  {
   "cell_type": "code",
   "execution_count": 25,
   "metadata": {},
   "outputs": [
    {
     "ename": "AttributeError",
     "evalue": "module 'pw2py.qesave' has no attribute 'read_charge_density'",
     "output_type": "error",
     "traceback": [
      "\u001b[0;31m---------------------------------------------------------------------------\u001b[0m",
      "\u001b[0;31mAttributeError\u001b[0m                            Traceback (most recent call last)",
      "\u001b[0;32m<ipython-input-25-9d50de1d81cb>\u001b[0m in \u001b[0;36m<module>\u001b[0;34m\u001b[0m\n\u001b[1;32m      1\u001b[0m \u001b[0msavefolder\u001b[0m \u001b[0;34m=\u001b[0m \u001b[0;34m'temp/BN.save'\u001b[0m\u001b[0;34m\u001b[0m\u001b[0;34m\u001b[0m\u001b[0m\n\u001b[0;32m----> 2\u001b[0;31m \u001b[0mrho\u001b[0m \u001b[0;34m=\u001b[0m \u001b[0mpw\u001b[0m\u001b[0;34m.\u001b[0m\u001b[0mqesave\u001b[0m\u001b[0;34m.\u001b[0m\u001b[0mread_charge_density\u001b[0m\u001b[0;34m(\u001b[0m\u001b[0msavefolder\u001b[0m\u001b[0;34m)\u001b[0m\u001b[0;34m\u001b[0m\u001b[0;34m\u001b[0m\u001b[0m\n\u001b[0m\u001b[1;32m      3\u001b[0m \u001b[0mprint\u001b[0m\u001b[0;34m(\u001b[0m\u001b[0mrho\u001b[0m\u001b[0;34m)\u001b[0m\u001b[0;34m\u001b[0m\u001b[0;34m\u001b[0m\u001b[0m\n\u001b[1;32m      4\u001b[0m \u001b[0mprint\u001b[0m\u001b[0;34m(\u001b[0m\u001b[0mrho\u001b[0m\u001b[0;34m.\u001b[0m\u001b[0mshape\u001b[0m\u001b[0;34m)\u001b[0m \u001b[0;31m# same as fft grid\u001b[0m\u001b[0;34m\u001b[0m\u001b[0;34m\u001b[0m\u001b[0m\n",
      "\u001b[0;31mAttributeError\u001b[0m: module 'pw2py.qesave' has no attribute 'read_charge_density'"
     ]
    }
   ],
   "source": [
    "savefolder = 'temp/BN.save'\n",
    "rho = pw.qesave.read_charge_density(savefolder)\n",
    "print(rho)\n",
    "print(rho.shape) # same as fft grid"
   ]
  },
  {
   "cell_type": "code",
   "execution_count": 28,
   "metadata": {},
   "outputs": [
    {
     "ename": "NameError",
     "evalue": "name 'rho' is not defined",
     "output_type": "error",
     "traceback": [
      "\u001b[0;31m---------------------------------------------------------------------------\u001b[0m",
      "\u001b[0;31mNameError\u001b[0m                                 Traceback (most recent call last)",
      "\u001b[0;32m<ipython-input-28-66b3935de2fd>\u001b[0m in \u001b[0;36m<module>\u001b[0;34m\u001b[0m\n\u001b[1;32m      1\u001b[0m \u001b[0;31m# average charge density in the xy direction\u001b[0m\u001b[0;34m\u001b[0m\u001b[0;34m\u001b[0m\u001b[0;34m\u001b[0m\u001b[0m\n\u001b[0;32m----> 2\u001b[0;31m \u001b[0mrho_z\u001b[0m \u001b[0;34m=\u001b[0m \u001b[0mnp\u001b[0m\u001b[0;34m.\u001b[0m\u001b[0maverage\u001b[0m\u001b[0;34m(\u001b[0m\u001b[0mrho\u001b[0m\u001b[0;34m,\u001b[0m \u001b[0maxis\u001b[0m\u001b[0;34m=\u001b[0m\u001b[0;34m(\u001b[0m\u001b[0;36m0\u001b[0m\u001b[0;34m,\u001b[0m \u001b[0;36m1\u001b[0m\u001b[0;34m)\u001b[0m\u001b[0;34m)\u001b[0m\u001b[0;34m\u001b[0m\u001b[0;34m\u001b[0m\u001b[0m\n\u001b[0m\u001b[1;32m      3\u001b[0m \u001b[0mprint\u001b[0m\u001b[0;34m(\u001b[0m\u001b[0mrho_z\u001b[0m\u001b[0;34m)\u001b[0m\u001b[0;34m\u001b[0m\u001b[0;34m\u001b[0m\u001b[0m\n\u001b[1;32m      4\u001b[0m \u001b[0mprint\u001b[0m\u001b[0;34m(\u001b[0m\u001b[0mrho_z\u001b[0m\u001b[0;34m.\u001b[0m\u001b[0mshape\u001b[0m\u001b[0;34m)\u001b[0m\u001b[0;34m\u001b[0m\u001b[0;34m\u001b[0m\u001b[0m\n",
      "\u001b[0;31mNameError\u001b[0m: name 'rho' is not defined"
     ]
    }
   ],
   "source": [
    "# average charge density in the xy direction\n",
    "rho_z = np.average(rho, axis=(0, 1))\n",
    "print(rho_z)\n",
    "print(rho_z.shape)"
   ]
  },
  {
   "cell_type": "code",
   "execution_count": 27,
   "metadata": {},
   "outputs": [
    {
     "ename": "NameError",
     "evalue": "name 'rho_z' is not defined",
     "output_type": "error",
     "traceback": [
      "\u001b[0;31m---------------------------------------------------------------------------\u001b[0m",
      "\u001b[0;31mNameError\u001b[0m                                 Traceback (most recent call last)",
      "\u001b[0;32m<ipython-input-27-715ae01cb826>\u001b[0m in \u001b[0;36m<module>\u001b[0;34m\u001b[0m\n\u001b[1;32m      3\u001b[0m \u001b[0mpar_z\u001b[0m \u001b[0;34m=\u001b[0m \u001b[0minp\u001b[0m\u001b[0;34m.\u001b[0m\u001b[0mpar\u001b[0m\u001b[0;34m[\u001b[0m\u001b[0;36m2\u001b[0m\u001b[0;34m,\u001b[0m \u001b[0;36m2\u001b[0m\u001b[0;34m]\u001b[0m\u001b[0;34m\u001b[0m\u001b[0;34m\u001b[0m\u001b[0m\n\u001b[1;32m      4\u001b[0m \u001b[0;34m\u001b[0m\u001b[0m\n\u001b[0;32m----> 5\u001b[0;31m \u001b[0mzvals\u001b[0m \u001b[0;34m=\u001b[0m \u001b[0mnp\u001b[0m\u001b[0;34m.\u001b[0m\u001b[0mlinspace\u001b[0m\u001b[0;34m(\u001b[0m\u001b[0;36m0\u001b[0m\u001b[0;34m,\u001b[0m \u001b[0mpar_z\u001b[0m\u001b[0;34m,\u001b[0m \u001b[0mnum\u001b[0m\u001b[0;34m=\u001b[0m\u001b[0;34m(\u001b[0m\u001b[0mrho_z\u001b[0m\u001b[0;34m.\u001b[0m\u001b[0msize\u001b[0m\u001b[0;34m+\u001b[0m\u001b[0;36m1\u001b[0m\u001b[0;34m)\u001b[0m\u001b[0;34m)\u001b[0m\u001b[0;34m[\u001b[0m\u001b[0;34m:\u001b[0m\u001b[0;34m-\u001b[0m\u001b[0;36m1\u001b[0m\u001b[0;34m]\u001b[0m\u001b[0;34m\u001b[0m\u001b[0;34m\u001b[0m\u001b[0m\n\u001b[0m\u001b[1;32m      6\u001b[0m \u001b[0;34m\u001b[0m\u001b[0m\n\u001b[1;32m      7\u001b[0m \u001b[0mplt\u001b[0m\u001b[0;34m.\u001b[0m\u001b[0mplot\u001b[0m\u001b[0;34m(\u001b[0m\u001b[0mzvals\u001b[0m\u001b[0;34m,\u001b[0m \u001b[0mrho_z\u001b[0m\u001b[0;34m)\u001b[0m\u001b[0;34m\u001b[0m\u001b[0;34m\u001b[0m\u001b[0m\n",
      "\u001b[0;31mNameError\u001b[0m: name 'rho_z' is not defined"
     ]
    }
   ],
   "source": [
    "# plot rho_z\n",
    "inp = pw.qeinp.from_file('scf.in')\n",
    "par_z = inp.par[2, 2]\n",
    "\n",
    "zvals = np.linspace(0, par_z, num=(rho_z.size+1))[:-1]\n",
    "\n",
    "plt.plot(zvals, rho_z)\n",
    "\n",
    "plt.ylabel(r'$\\rho$ [a.u.]')\n",
    "plt.xlabel(r'$z$ [a.u.]')\n",
    "\n",
    "plt.tight_layout()\n",
    "plt.savefig('rho.png')\n",
    "plt.show()"
   ]
  },
  {
   "cell_type": "markdown",
   "metadata": {},
   "source": [
    "### Reading wavefunctions"
   ]
  },
  {
   "cell_type": "code",
   "execution_count": 12,
   "metadata": {},
   "outputs": [
    {
     "ename": "AttributeError",
     "evalue": "module 'pw2py.qesave' has no attribute 'read_wavefunction'",
     "output_type": "error",
     "traceback": [
      "\u001b[0;31m---------------------------------------------------------------------------\u001b[0m",
      "\u001b[0;31mAttributeError\u001b[0m                            Traceback (most recent call last)",
      "\u001b[0;32m<ipython-input-12-4df3cf318929>\u001b[0m in \u001b[0;36m<module>\u001b[0;34m\u001b[0m\n\u001b[0;32m----> 1\u001b[0;31m \u001b[0mhelp\u001b[0m\u001b[0;34m(\u001b[0m\u001b[0mpw\u001b[0m\u001b[0;34m.\u001b[0m\u001b[0mqesave\u001b[0m\u001b[0;34m.\u001b[0m\u001b[0mread_wavefunction\u001b[0m\u001b[0;34m)\u001b[0m\u001b[0;34m\u001b[0m\u001b[0;34m\u001b[0m\u001b[0m\n\u001b[0m",
      "\u001b[0;31mAttributeError\u001b[0m: module 'pw2py.qesave' has no attribute 'read_wavefunction'"
     ]
    }
   ],
   "source": [
    "help(pw.qesave.read_wavefunction)"
   ]
  },
  {
   "cell_type": "code",
   "execution_count": null,
   "metadata": {},
   "outputs": [],
   "source": [
    "evc = pw.qesave.read_wavefunction(savefolder)\n",
    "print(evc)\n",
    "print(\"(kpt, spin, band, gvec_index) -> \", evc.shape)\n",
    "print('Note! While the calculation in this folder was actually run with a 3x3 grid only the kp K00001 (i.e. gamma) is kept in the tutorial to save storage space')"
   ]
  },
  {
   "cell_type": "code",
   "execution_count": null,
   "metadata": {},
   "outputs": [],
   "source": [
    "# this calculation is a simple 4x4 h-BN lattice with a carbon defect\n",
    "# let's take a closer look at band 65, spin up, and at the gamma point\n",
    "evc65 = evc[0, 0, 65]\n",
    "print(evc65)\n",
    "print(evc65.shape)\n",
    "print(np.linalg.norm(evc65)) # we used norm-conserving pseudopotentials so the norm should be 1"
   ]
  },
  {
   "cell_type": "code",
   "execution_count": null,
   "metadata": {},
   "outputs": [],
   "source": [
    "# as you can see the wavefunction is complex, but is actually stored as a 1d array\n",
    "# also this function is defined in G space (whereas rho above was defined in R space)\n",
    "# read the g vectors using pw2py\n",
    "gk = pw.qesave.read_gkvectors(savefolder)[0]\n",
    "print(gk)\n",
    "print(gk.shape)"
   ]
  },
  {
   "cell_type": "code",
   "execution_count": null,
   "metadata": {},
   "outputs": [],
   "source": [
    "# what if we want the wavefunction defined in real space e.g. psi(R)?\n",
    "# well will need to reshape evc65 according to gk above and then preform a fourier transform on psi(G) -> psi(R)\n",
    "# thankfully pw2py has you covered with a semi-decent implementation\n",
    "help(pw.functions.reshape_wfc3D)"
   ]
  },
  {
   "cell_type": "code",
   "execution_count": null,
   "metadata": {},
   "outputs": [],
   "source": [
    "# use pw.functions.reshpae_wfc3D to reshape evc65 to an explicitly 3-dimensional array we'll call evc3D\n",
    "evc3D = pw.functions.reshape_wfc3D(evc65, gk, scaling=2)\n",
    "print(evc3D)\n",
    "print(evc3D.shape)"
   ]
  },
  {
   "cell_type": "code",
   "execution_count": null,
   "metadata": {},
   "outputs": [],
   "source": [
    "# now we can use scipy to fourier transform our wfc from G space to R space\n",
    "evcR = scipy.fftpack.fftn(evc3D, overwrite_x=False) / (evc3D.size)**0.5\n",
    "print(evcR)\n",
    "print(evcR.shape)\n",
    "print(np.linalg.norm(evcR)) # the norm should still be 1!"
   ]
  },
  {
   "cell_type": "code",
   "execution_count": null,
   "metadata": {},
   "outputs": [],
   "source": [
    "# now that we have the real space wavefunction let's visualize it similarly to how we did above for rho\n",
    "evcR_x = np.average(np.abs(evcR), axis=(1, 2))\n",
    "\n",
    "par_x = inp.par[0, 0]\n",
    "xvals = np.linspace(0, par_x, num=(evcR_x.size+1))[:-1]\n",
    "\n",
    "plt.plot(xvals, evcR_x)\n",
    "\n",
    "plt.ylabel(r'$\\psi(x)$')\n",
    "plt.xlabel(r'$x$ [a.u.]')\n",
    "\n",
    "plt.tight_layout()\n",
    "plt.savefig('evc.png')\n",
    "plt.show()"
   ]
  },
  {
   "cell_type": "code",
   "execution_count": null,
   "metadata": {},
   "outputs": [],
   "source": [
    "# some things are already implemented straightforwardly\n",
    "help(pw.functions.plot_wfc_xsf)\n",
    "pw.functions.plot_wfc_xsf('evc_65_up.xsf', inp, evc65, gk, lsign=True)"
   ]
  },
  {
   "cell_type": "code",
   "execution_count": null,
   "metadata": {},
   "outputs": [],
   "source": [
    "# another example\n",
    "help(pw.functions.plot_wfc_averaged)\n",
    "pw.functions.plot_wfc_averaged('evc_65_z.txt', evc65, gk)"
   ]
  }
 ],
 "metadata": {
  "kernelspec": {
   "display_name": "Python 3",
   "language": "python",
   "name": "python3"
  },
  "language_info": {
   "codemirror_mode": {
    "name": "ipython",
    "version": 3
   },
   "file_extension": ".py",
   "mimetype": "text/x-python",
   "name": "python",
   "nbconvert_exporter": "python",
   "pygments_lexer": "ipython3",
   "version": "3.8.5"
  }
 },
 "nbformat": 4,
 "nbformat_minor": 4
}
