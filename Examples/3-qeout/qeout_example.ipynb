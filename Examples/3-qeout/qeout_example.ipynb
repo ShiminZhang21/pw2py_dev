{
 "cells": [
  {
   "cell_type": "code",
   "execution_count": 1,
   "metadata": {},
   "outputs": [],
   "source": [
    "import pw2py as pw"
   ]
  },
  {
   "cell_type": "markdown",
   "metadata": {},
   "source": [
    "### How to create a qeout object"
   ]
  },
  {
   "cell_type": "code",
   "execution_count": 2,
   "metadata": {},
   "outputs": [],
   "source": [
    "# create an 'qeout' object from a qe file\n",
    "filename = 'relax.out'\n",
    "out = pw.qeout.from_file(filename)"
   ]
  },
  {
   "cell_type": "markdown",
   "metadata": {},
   "source": [
    "### Attributes of the qeout object"
   ]
  },
  {
   "cell_type": "code",
   "execution_count": 5,
   "metadata": {},
   "outputs": [
    {
     "data": {
      "text/plain": [
       "['bands', 'final_energy', 'from_file', 'geo']"
      ]
     },
     "execution_count": 5,
     "metadata": {},
     "output_type": "execute_result"
    }
   ],
   "source": [
    "[d for d in dir(out) if not d.startswith('_')]"
   ]
  },
  {
   "cell_type": "code",
   "execution_count": 6,
   "metadata": {},
   "outputs": [
    {
     "name": "stdout",
     "output_type": "stream",
     "text": [
      "-------------------- out.ion --------------------\n"
     ]
    },
    {
     "ename": "AttributeError",
     "evalue": "'qeout' object has no attribute 'ion'",
     "output_type": "error",
     "traceback": [
      "\u001b[0;31m---------------------------------------------------------------------------\u001b[0m",
      "\u001b[0;31mAttributeError\u001b[0m                            Traceback (most recent call last)",
      "\u001b[0;32m<ipython-input-6-dede8373b9e9>\u001b[0m in \u001b[0;36m<module>\u001b[0;34m\u001b[0m\n\u001b[1;32m      1\u001b[0m \u001b[0mprint\u001b[0m\u001b[0;34m(\u001b[0m\u001b[0;34m'-'\u001b[0m\u001b[0;34m*\u001b[0m\u001b[0;36m20\u001b[0m\u001b[0;34m,\u001b[0m \u001b[0;34m'out.ion'\u001b[0m\u001b[0;34m,\u001b[0m \u001b[0;34m'-'\u001b[0m\u001b[0;34m*\u001b[0m\u001b[0;36m20\u001b[0m\u001b[0;34m)\u001b[0m\u001b[0;34m\u001b[0m\u001b[0;34m\u001b[0m\u001b[0m\n\u001b[0;32m----> 2\u001b[0;31m \u001b[0mprint\u001b[0m\u001b[0;34m(\u001b[0m\u001b[0mout\u001b[0m\u001b[0;34m.\u001b[0m\u001b[0mion\u001b[0m\u001b[0;34m)\u001b[0m          \u001b[0;31m# ion names\u001b[0m\u001b[0;34m\u001b[0m\u001b[0;34m\u001b[0m\u001b[0m\n\u001b[0m\u001b[1;32m      3\u001b[0m \u001b[0mprint\u001b[0m\u001b[0;34m(\u001b[0m\u001b[0;34m'-'\u001b[0m\u001b[0;34m*\u001b[0m\u001b[0;36m20\u001b[0m\u001b[0;34m,\u001b[0m \u001b[0;34m'out.pos_units'\u001b[0m\u001b[0;34m,\u001b[0m \u001b[0;34m'-'\u001b[0m\u001b[0;34m*\u001b[0m\u001b[0;36m20\u001b[0m\u001b[0;34m)\u001b[0m\u001b[0;34m\u001b[0m\u001b[0;34m\u001b[0m\u001b[0m\n\u001b[1;32m      4\u001b[0m \u001b[0mprint\u001b[0m\u001b[0;34m(\u001b[0m\u001b[0mout\u001b[0m\u001b[0;34m.\u001b[0m\u001b[0mpos_units\u001b[0m\u001b[0;34m)\u001b[0m    \u001b[0;31m# units for the positions (crystal, angstrom, and bohr are supported)\u001b[0m\u001b[0;34m\u001b[0m\u001b[0;34m\u001b[0m\u001b[0m\n\u001b[1;32m      5\u001b[0m \u001b[0mprint\u001b[0m\u001b[0;34m(\u001b[0m\u001b[0;34m'-'\u001b[0m\u001b[0;34m*\u001b[0m\u001b[0;36m20\u001b[0m\u001b[0;34m,\u001b[0m \u001b[0;34m'out.list_pos'\u001b[0m\u001b[0;34m,\u001b[0m \u001b[0;34m'-'\u001b[0m\u001b[0;34m*\u001b[0m\u001b[0;36m20\u001b[0m\u001b[0;34m)\u001b[0m\u001b[0;34m\u001b[0m\u001b[0;34m\u001b[0m\u001b[0m\n",
      "\u001b[0;31mAttributeError\u001b[0m: 'qeout' object has no attribute 'ion'"
     ]
    }
   ],
   "source": [
    "print('-'*20, 'out.ion', '-'*20)\n",
    "print(out.ion)          # ion names\n",
    "print('-'*20, 'out.pos_units', '-'*20)\n",
    "print(out.pos_units)    # units for the positions (crystal, angstrom, and bohr are supported)\n",
    "print('-'*20, 'out.list_pos', '-'*20)\n",
    "print(out.list_pos)     # xyz positions\n",
    "print('-'*20, 'out.list_eigs', '-'*20)\n",
    "print(out.list_eigs)    # eigenvalues at gamma point\n",
    "print('-'*20, 'out.par', '-'*20)\n",
    "print(out.par)          # cell parameters"
   ]
  },
  {
   "cell_type": "markdown",
   "metadata": {},
   "source": [
    "### Final energy of qe output"
   ]
  },
  {
   "cell_type": "code",
   "execution_count": 7,
   "metadata": {},
   "outputs": [
    {
     "name": "stdout",
     "output_type": "stream",
     "text": [
      "(-192584.41078286557, 'Final')\n"
     ]
    }
   ],
   "source": [
    "# by far one of the most useful functions defined in qeout can be called without creating a qeout object\n",
    "# this is final_energy which as the name states returns the final energy of the final\n",
    "print(pw.qeout.final_energy(filename)) # returns a tuple of (energy, convergence level) (convergence level can be 'total energy' '!' '!!' or 'Final')"
   ]
  },
  {
   "cell_type": "markdown",
   "metadata": {},
   "source": [
    "### Convergence of qe output"
   ]
  },
  {
   "cell_type": "code",
   "execution_count": 8,
   "metadata": {},
   "outputs": [
    {
     "ename": "AttributeError",
     "evalue": "'qeout' object has no attribute 'conv'",
     "output_type": "error",
     "traceback": [
      "\u001b[0;31m---------------------------------------------------------------------------\u001b[0m",
      "\u001b[0;31mAttributeError\u001b[0m                            Traceback (most recent call last)",
      "\u001b[0;32m<ipython-input-8-ffae2a397bc3>\u001b[0m in \u001b[0;36m<module>\u001b[0;34m\u001b[0m\n\u001b[0;32m----> 1\u001b[0;31m \u001b[0mout\u001b[0m\u001b[0;34m.\u001b[0m\u001b[0mconv\u001b[0m\u001b[0;34m\u001b[0m\u001b[0;34m\u001b[0m\u001b[0m\n\u001b[0m",
      "\u001b[0;31mAttributeError\u001b[0m: 'qeout' object has no attribute 'conv'"
     ]
    }
   ],
   "source": [
    "out.conv"
   ]
  },
  {
   "cell_type": "markdown",
   "metadata": {},
   "source": [
    "### Read the help menu"
   ]
  },
  {
   "cell_type": "code",
   "execution_count": 9,
   "metadata": {},
   "outputs": [
    {
     "name": "stdout",
     "output_type": "stream",
     "text": [
      "Help on qeout in module pw2py.qeout object:\n",
      "\n",
      "class qeout(builtins.object)\n",
      " |  qeout(**kw)\n",
      " |  \n",
      " |  class for quantum espresso output file\n",
      " |  \n",
      " |  Suggested to make object from file:\n",
      " |  -----\n",
      " |  \n",
      " |  out = qeout.from_file(filename)\n",
      " |  \n",
      " |  Attributes:\n",
      " |  -----\n",
      " |  \n",
      " |  geo (pw2py.atomgeo)\n",
      " |      - atomic geometry (will read *.in if found)\n",
      " |  bands (pw2py.bands)\n",
      " |      - kohn-sham bands\n",
      " |  final_energy (tuple)\n",
      " |      - tuple, of energy and convergence level\n",
      " |  \n",
      " |  Methods defined here:\n",
      " |  \n",
      " |  __init__(self, **kw)\n",
      " |      initialize qeout from keyword arguments\n",
      " |      \n",
      " |      input\n",
      " |      ---\n",
      " |          kw: dict, with keys:\n",
      " |              bands           : pw2py.bands, kohn-sham bands\n",
      " |              geo             : pw2py.atomgo, atomic geometry\n",
      " |              final_energy    : tuple(float, str), final total energy (in eV) and then convergence level\n",
      " |      \n",
      " |      returns\n",
      " |      ---\n",
      " |          qeout object\n",
      " |  \n",
      " |  ----------------------------------------------------------------------\n",
      " |  Class methods defined here:\n",
      " |  \n",
      " |  from_file(filename: str) from builtins.type\n",
      " |      create qeout object from file\n",
      " |  \n",
      " |  ----------------------------------------------------------------------\n",
      " |  Static methods defined here:\n",
      " |  \n",
      " |  final_energy(*args, **kwargs)\n",
      " |      (deprecated) Left here for convencience, use functions.final_energy instead\n",
      " |      \n",
      " |      returns ..functions.final_energy(*args, **kwargs)\n",
      " |  \n",
      " |  ----------------------------------------------------------------------\n",
      " |  Data descriptors defined here:\n",
      " |  \n",
      " |  __dict__\n",
      " |      dictionary for instance variables (if defined)\n",
      " |  \n",
      " |  __weakref__\n",
      " |      list of weak references to the object (if defined)\n",
      "\n"
     ]
    }
   ],
   "source": [
    "help(out)"
   ]
  },
  {
   "cell_type": "code",
   "execution_count": null,
   "metadata": {},
   "outputs": [],
   "source": []
  }
 ],
 "metadata": {
  "kernelspec": {
   "display_name": "Python 3",
   "language": "python",
   "name": "python3"
  },
  "language_info": {
   "codemirror_mode": {
    "name": "ipython",
    "version": 3
   },
   "file_extension": ".py",
   "mimetype": "text/x-python",
   "name": "python",
   "nbconvert_exporter": "python",
   "pygments_lexer": "ipython3",
   "version": "3.8.5"
  }
 },
 "nbformat": 4,
 "nbformat_minor": 4
}
